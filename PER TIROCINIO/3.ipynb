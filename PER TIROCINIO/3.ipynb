{
 "cells": [
  {
   "cell_type": "code",
   "execution_count": 1,
   "id": "ffef1899-585b-474f-aefb-1f45c3de93b7",
   "metadata": {},
   "outputs": [
    {
     "name": "stdout",
     "output_type": "stream",
     "text": [
      "Note: you may need to restart the kernel to use updated packages.\n"
     ]
    }
   ],
   "source": [
    "pip install --quiet --upgrade pip scipy matplotlib wordcloud seaborn nltk scikit-learn plotly nbformat imbalanced-learn tqdm xgboost pillow tabulate"
   ]
  },
  {
   "cell_type": "code",
   "execution_count": 2,
   "id": "51b32110-4f70-44fc-9b2d-83c6ee6a7c7c",
   "metadata": {},
   "outputs": [
    {
     "data": {
      "text/html": [
       "        <script type=\"text/javascript\">\n",
       "        window.PlotlyConfig = {MathJaxConfig: 'local'};\n",
       "        if (window.MathJax && window.MathJax.Hub && window.MathJax.Hub.Config) {window.MathJax.Hub.Config({SVG: {font: \"STIX-Web\"}});}\n",
       "        if (typeof require !== 'undefined') {\n",
       "        require.undef(\"plotly\");\n",
       "        requirejs.config({\n",
       "            paths: {\n",
       "                'plotly': ['https://cdn.plot.ly/plotly-2.35.2.min']\n",
       "            }\n",
       "        });\n",
       "        require(['plotly'], function(Plotly) {\n",
       "            window._Plotly = Plotly;\n",
       "        });\n",
       "        }\n",
       "        </script>\n",
       "        "
      ]
     },
     "metadata": {},
     "output_type": "display_data"
    }
   ],
   "source": [
    "# Calcolo e manipolazione dati\n",
    "import numpy as np\n",
    "import pandas as pd\n",
    "from collections import Counter\n",
    "import re\n",
    "import string\n",
    "import warnings\n",
    "\n",
    "# NLP e Preprocessing\n",
    "import nltk\n",
    "from nltk.tokenize import word_tokenize\n",
    "from nltk.corpus import stopwords\n",
    "from nltk.stem import WordNetLemmatizer, PorterStemmer\n",
    "from wordcloud import WordCloud\n",
    "from sklearn.feature_extraction.text import TfidfVectorizer\n",
    "\n",
    "# Gestione degli squilibri di classe\n",
    "from imblearn.over_sampling import SMOTE, RandomOverSampler\n",
    "from imblearn.under_sampling import RandomUnderSampler\n",
    "\n",
    "# Machine Learning e Modelli\n",
    "from sklearn.model_selection import train_test_split, GridSearchCV\n",
    "from sklearn.pipeline import Pipeline\n",
    "from sklearn.preprocessing import StandardScaler, LabelEncoder\n",
    "from sklearn.decomposition import TruncatedSVD\n",
    "from sklearn.linear_model import LogisticRegression, SGDClassifier\n",
    "from sklearn.naive_bayes import MultinomialNB, GaussianNB\n",
    "from sklearn.neighbors import KNeighborsClassifier\n",
    "from sklearn.ensemble import RandomForestClassifier\n",
    "from xgboost import XGBClassifier\n",
    "\n",
    "# Metriche di valutazione\n",
    "from sklearn.metrics import (confusion_matrix, ConfusionMatrixDisplay, log_loss, precision_recall_fscore_support, classification_report, accuracy_score, f1_score, precision_score, recall_score)\n",
    "from tabulate import tabulate\n",
    "\n",
    "# Utility\n",
    "from sklearn.utils import resample\n",
    "from tqdm import tqdm  # Barra di avanzamento\n",
    "import time\n",
    "import matplotlib.image as mpimg\n",
    "from IPython.display import Image, display\n",
    "from IPython.core.display import HTML\n",
    "from sklearn.exceptions import ConvergenceWarning\n",
    "\n",
    "# Visualizzazione\n",
    "import matplotlib.pyplot as plt\n",
    "import seaborn as sns\n",
    "import plotly.express as px\n",
    "import plotly.offline as py\n",
    "py.init_notebook_mode(connected=True)\n",
    "\n",
    "# Ignorare avvisi\n",
    "warnings.filterwarnings('ignore')\n",
    "warnings.filterwarnings(\"ignore\", category=ConvergenceWarning)\n",
    "warnings.simplefilter(\"ignore\", ConvergenceWarning)"
   ]
  },
  {
   "cell_type": "code",
   "execution_count": 3,
   "id": "e98da026-ee5f-4bb3-ae32-d8fbe4248ce9",
   "metadata": {},
   "outputs": [],
   "source": [
    "def plot_class_distribution(df, column_name, title='Distribuzione delle Classi', color='navy', ax=None):\n",
    "    # Impostazioni estetiche per il grafico\n",
    "    sns.set(style=\"darkgrid\")  # Aggiunge uno sfondo gradevole\n",
    "\n",
    "    # Creazione del grafico\n",
    "    if ax is None:\n",
    "        ax = plt.gca()  # Se non viene passato un asse, usa quello corrente\n",
    "    sns.countplot(x=column_name, data=df, color=color, ax=ax)  # Imposta un colore uniforme per le barre\n",
    "\n",
    "    # Titolo e etichette\n",
    "    ax.set_title(title, fontsize=16)\n",
    "    ax.set_xlabel('Classi', fontsize=14)\n",
    "    ax.set_ylabel('Numero di Occorrenze', fontsize=14)\n",
    "\n",
    "    # Aggiungere il numero sopra ogni barra con lo stesso colore della barra\n",
    "    for p in ax.patches:\n",
    "        height = int(p.get_height())  # Otteniamo l'altezza della barra\n",
    "        ax.annotate(f'{height}', \n",
    "                    (p.get_x() + p.get_width() / 2., p.get_height()), \n",
    "                    ha='center', va='center', fontsize=12, \n",
    "                    color=p.get_facecolor(),  # Impostiamo il colore del testo uguale a quello della barra\n",
    "                    xytext=(0, 5), textcoords='offset points')"
   ]
  },
  {
   "cell_type": "code",
   "execution_count": 4,
   "id": "04213439-6021-4dc4-bdd3-7df5d3a6eadd",
   "metadata": {},
   "outputs": [],
   "source": [
    "# Caricamento Dataset\n",
    "data = pd.read_csv(\"/Users/diego/Desktop/dataset_ottimizzato.csv\")"
   ]
  },
  {
   "cell_type": "code",
   "execution_count": 5,
   "id": "ab0c780c-0c47-4fa0-bf6b-c8c0e6e88713",
   "metadata": {},
   "outputs": [
    {
     "data": {
      "text/html": [
       "<div>\n",
       "<style scoped>\n",
       "    .dataframe tbody tr th:only-of-type {\n",
       "        vertical-align: middle;\n",
       "    }\n",
       "\n",
       "    .dataframe tbody tr th {\n",
       "        vertical-align: top;\n",
       "    }\n",
       "\n",
       "    .dataframe thead th {\n",
       "        text-align: right;\n",
       "    }\n",
       "</style>\n",
       "<table border=\"1\" class=\"dataframe\">\n",
       "  <thead>\n",
       "    <tr style=\"text-align: right;\">\n",
       "      <th></th>\n",
       "      <th>ID</th>\n",
       "      <th>Gene</th>\n",
       "      <th>Variation</th>\n",
       "      <th>Class</th>\n",
       "      <th>text</th>\n",
       "    </tr>\n",
       "  </thead>\n",
       "  <tbody>\n",
       "    <tr>\n",
       "      <th>0</th>\n",
       "      <td>0</td>\n",
       "      <td>FAM58A</td>\n",
       "      <td>Truncating Mutations</td>\n",
       "      <td>1</td>\n",
       "      <td>cyclin dependent kinase cdks regulate variety ...</td>\n",
       "    </tr>\n",
       "    <tr>\n",
       "      <th>1</th>\n",
       "      <td>1</td>\n",
       "      <td>CBL</td>\n",
       "      <td>W802*</td>\n",
       "      <td>2</td>\n",
       "      <td>abstract background non small cell lung cancer...</td>\n",
       "    </tr>\n",
       "    <tr>\n",
       "      <th>2</th>\n",
       "      <td>2</td>\n",
       "      <td>CBL</td>\n",
       "      <td>Q249E</td>\n",
       "      <td>2</td>\n",
       "      <td>abstract background non small cell lung cancer...</td>\n",
       "    </tr>\n",
       "    <tr>\n",
       "      <th>3</th>\n",
       "      <td>3</td>\n",
       "      <td>CBL</td>\n",
       "      <td>N454D</td>\n",
       "      <td>3</td>\n",
       "      <td>recent evidence demonstrated acquired uniparen...</td>\n",
       "    </tr>\n",
       "    <tr>\n",
       "      <th>4</th>\n",
       "      <td>4</td>\n",
       "      <td>CBL</td>\n",
       "      <td>L399V</td>\n",
       "      <td>4</td>\n",
       "      <td>oncogenic mutation monomeric casitas lineage l...</td>\n",
       "    </tr>\n",
       "  </tbody>\n",
       "</table>\n",
       "</div>"
      ],
      "text/plain": [
       "   ID    Gene             Variation  Class  \\\n",
       "0   0  FAM58A  Truncating Mutations      1   \n",
       "1   1     CBL                 W802*      2   \n",
       "2   2     CBL                 Q249E      2   \n",
       "3   3     CBL                 N454D      3   \n",
       "4   4     CBL                 L399V      4   \n",
       "\n",
       "                                                text  \n",
       "0  cyclin dependent kinase cdks regulate variety ...  \n",
       "1  abstract background non small cell lung cancer...  \n",
       "2  abstract background non small cell lung cancer...  \n",
       "3  recent evidence demonstrated acquired uniparen...  \n",
       "4  oncogenic mutation monomeric casitas lineage l...  "
      ]
     },
     "execution_count": 5,
     "metadata": {},
     "output_type": "execute_result"
    }
   ],
   "source": [
    "data.head()"
   ]
  },
  {
   "cell_type": "code",
   "execution_count": 6,
   "id": "691998ac-328a-4d75-b57d-ea3e0811aa7b",
   "metadata": {},
   "outputs": [],
   "source": [
    "# Separazione delle feature e del target\n",
    "X = data[['Gene', 'Variation', 'text']]  # Feature\n",
    "y = data['Class']  # Target"
   ]
  },
  {
   "cell_type": "code",
   "execution_count": 7,
   "id": "30a30fee-1db9-4b7f-be93-9dbcd3fb6c30",
   "metadata": {},
   "outputs": [],
   "source": [
    "from sklearn.preprocessing import LabelEncoder\n",
    "\n",
    "# Label Encoding per Gene e Variation\n",
    "label_encoder_gene = LabelEncoder()\n",
    "label_encoder_variation = LabelEncoder()\n",
    "\n",
    "# Adatta e trasforma sul training set\n",
    "X['Gene'] = label_encoder_gene.fit_transform(X['Gene'])\n",
    "X['Variation'] = label_encoder_variation.fit_transform(X['Variation'])\n"
   ]
  },
  {
   "cell_type": "code",
   "execution_count": 8,
   "id": "1e4c285f-2a6e-4c80-8453-3e483a712711",
   "metadata": {},
   "outputs": [],
   "source": [
    "# Divisione in train e test set\n",
    "X_train, X_test, y_train, y_test = train_test_split(X, y, test_size=0.2, random_state=42, stratify=y)"
   ]
  },
  {
   "cell_type": "code",
   "execution_count": 9,
   "id": "6d86d57f-e56e-4118-a4ca-d67f34de43ef",
   "metadata": {},
   "outputs": [],
   "source": [
    "# TF-IDF\n",
    "tfidf = TfidfVectorizer(max_features=5000)  # Limita il numero di feature\n",
    "X_train_text_tfidf = tfidf.fit_transform(X_train['text'])  # Solo sul training set\n",
    "X_test_text_tfidf = tfidf.transform(X_test['text'])        # Usa lo stesso fit sul test set\n",
    "\n",
    "# SVD\n",
    "svd = TruncatedSVD(n_components=300, random_state=42)  # Riduci a 300 dimensioni\n",
    "X_train_text_svd = svd.fit_transform(X_train_text_tfidf)  # Solo sul training set\n",
    "X_test_text_svd = svd.transform(X_test_text_tfidf)        # Usa lo stesso fit sul test set\n",
    "\n",
    "#SCALER\n",
    "scaler = StandardScaler()\n",
    "X_train_text_scaled = scaler.fit_transform(X_train_text_svd)  # Training set\n",
    "X_test_text_scaled = scaler.transform(X_test_text_svd)        # Test set\n"
   ]
  },
  {
   "cell_type": "code",
   "execution_count": 10,
   "id": "347f0275-e85a-4a13-931c-e6bddc51d57b",
   "metadata": {},
   "outputs": [],
   "source": [
    "# Concatena le feature (Gene, Variation) con quelle testuali\n",
    "X_train_final = np.hstack([X_train[['Gene', 'Variation']].values, X_train_text_scaled])\n",
    "X_test_final = np.hstack([X_test[['Gene', 'Variation']].values, X_test_text_scaled])\n"
   ]
  },
  {
   "cell_type": "code",
   "execution_count": 11,
   "id": "73428dc4-ad3e-4a2b-9055-205f7bbf0395",
   "metadata": {},
   "outputs": [
    {
     "data": {
      "image/png": "[encoded data removed]",
      "text/plain": [
       "<Figure size 1400x600 with 2 Axes>"
      ]
     },
     "metadata": {},
     "output_type": "display_data"
    }
   ],
   "source": [
    "# Visualizza la distribuzione delle classi nel training e nel test set\n",
    "fig, axes = plt.subplots(1, 2, figsize=(14, 6))\n",
    "\n",
    "# Grafico per il training set\n",
    "plot_class_distribution(df=pd.DataFrame({'Class': y_train}), column_name='Class', title='Distribuzione delle Classi nel Training Set Originale', color='navy', ax=axes[0])\n",
    "\n",
    "# Grafico per il test set\n",
    "plot_class_distribution(df=pd.DataFrame({'Class': y_test}), column_name='Class', title='Distribuzione delle Classi nel Test Set Originale', color='navy', ax=axes[1])\n",
    "\n",
    "# Ottimizzazione della disposizione dell'intero layout\n",
    "plt.tight_layout()\n",
    "plt.show()"
   ]
  },
  {
   "cell_type": "code",
   "execution_count": 12,
   "id": "23d9c8e9-50c2-4547-a08a-171a8b297d4c",
   "metadata": {},
   "outputs": [
    {
     "name": "stdout",
     "output_type": "stream",
     "text": [
      "Migliori parametri trovati: {'class_weight': None, 'max_depth': 20, 'min_samples_split': 2, 'n_estimators': 400}\n",
      "Report di classificazione:\n",
      "              precision    recall  f1-score   support\n",
      "\n",
      "           1       0.58      0.62      0.60       113\n",
      "           2       0.67      0.42      0.51        91\n",
      "           3       0.53      0.44      0.48        18\n",
      "           4       0.71      0.64      0.67       137\n",
      "           5       0.39      0.40      0.39        48\n",
      "           6       0.83      0.53      0.64        55\n",
      "           7       0.65      0.87      0.74       191\n",
      "           8       0.00      0.00      0.00         4\n",
      "           9       0.75      0.86      0.80         7\n",
      "\n",
      "    accuracy                           0.64       664\n",
      "   macro avg       0.57      0.53      0.54       664\n",
      "weighted avg       0.64      0.64      0.63       664\n",
      "\n"
     ]
    }
   ],
   "source": [
    "# Definizione dei parametri da ottimizzare\n",
    "param_grid = {\n",
    "    'n_estimators': [100, 250, 400],\n",
    "    'max_depth': [30, 20, None],\n",
    "    'min_samples_split': [2, 5],\n",
    "    'class_weight': [None, 'balanced']\n",
    "}\n",
    "\n",
    "# Creazione del modello con n_jobs=-1 per utilizzare tutte le CPU\n",
    "rf = RandomForestClassifier(random_state=42, n_jobs=-1)\n",
    "\n",
    "# Grid Search con scoring basato sull'F1-score\n",
    "grid_search = GridSearchCV(estimator=rf, param_grid=param_grid, cv=3, scoring='f1_weighted', n_jobs=-1)\n",
    "grid_search.fit(X_train_final, y_train)\n",
    "\n",
    "# Miglior modello e parametri\n",
    "best_rf = grid_search.best_estimator_\n",
    "print(\"Migliori parametri trovati:\", grid_search.best_params_)\n",
    "\n",
    "# Predizione con il miglior modello\n",
    "y_pred = best_rf.predict(X_test_final)\n",
    "\n",
    "# Valutazione del modello\n",
    "print(\"Report di classificazione:\")\n",
    "print(classification_report(y_test, y_pred))"
   ]
  },
  {
   "cell_type": "code",
   "execution_count": null,
   "id": "c77f4706-9292-4665-a927-3d7ddc9a2a69",
   "metadata": {},
   "outputs": [],
   "source": []
  }
 ],
 "metadata": {
  "kernelspec": {
   "display_name": "Python 3 (ipykernel)",
   "language": "python",
   "name": "python3"
  },
  "language_info": {
   "codemirror_mode": {
    "name": "ipython",
    "version": 3
   },
   "file_extension": ".py",
   "mimetype": "text/x-python",
   "name": "python",
   "nbconvert_exporter": "python",
   "pygments_lexer": "ipython3",
   "version": "3.12.6"
  }
 },
 "nbformat": 4,
 "nbformat_minor": 5
}
