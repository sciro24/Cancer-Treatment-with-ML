{
 "cells": [
  {
   "cell_type": "markdown",
   "id": "88a7799b-c42b-45f5-8d6c-7e8d4072191c",
   "metadata": {},
   "source": [
    "<h2>INSTALLAZIONE LIBRERIE</h2>"
   ]
  },
  {
   "cell_type": "markdown",
   "id": "41c4853b-1af1-4396-963d-0e29644837df",
   "metadata": {},
   "source": [
    "<p style=\"font-size:14px; font-family:verdana; line-height: 1.7em\">\n",
    "Installazione librerie <strong>necessarie per il funzionamento</strong> del progetto:\n",
    "</p>"
   ]
  },
  {
   "cell_type": "code",
   "execution_count": 1,
   "id": "7428c71d-b081-429a-b552-46290fd2e23d",
   "metadata": {},
   "outputs": [
    {
     "name": "stdout",
     "output_type": "stream",
     "text": [
      "Note: you may need to restart the kernel to use updated packages.\n"
     ]
    }
   ],
   "source": [
    "pip install --quiet --upgrade pip scipy matplotlib wordcloud seaborn nltk scikit-learn plotly nbformat imbalanced-learn tqdm xgboost pillow tabulate"
   ]
  },
  {
   "cell_type": "markdown",
   "id": "49b8988a-f4b1-4551-ba52-cd7389defa9c",
   "metadata": {},
   "source": [
    "<h2>IMPORTAZIONE LIBRERIE</h2>"
   ]
  },
  {
   "cell_type": "code",
   "execution_count": 2,
   "id": "db6d4c7f-550a-4a09-80a6-828adb084864",
   "metadata": {},
   "outputs": [
    {
     "data": {
      "text/html": [
       "        <script type=\"text/javascript\">\n",
       "        window.PlotlyConfig = {MathJaxConfig: 'local'};\n",
       "        if (window.MathJax && window.MathJax.Hub && window.MathJax.Hub.Config) {window.MathJax.Hub.Config({SVG: {font: \"STIX-Web\"}});}\n",
       "        if (typeof require !== 'undefined') {\n",
       "        require.undef(\"plotly\");\n",
       "        requirejs.config({\n",
       "            paths: {\n",
       "                'plotly': ['https://cdn.plot.ly/plotly-2.35.2.min']\n",
       "            }\n",
       "        });\n",
       "        require(['plotly'], function(Plotly) {\n",
       "            window._Plotly = Plotly;\n",
       "        });\n",
       "        }\n",
       "        </script>\n",
       "        "
      ]
     },
     "metadata": {},
     "output_type": "display_data"
    }
   ],
   "source": [
    "# Calcolo e manipolazione dati\n",
    "import numpy as np\n",
    "import pandas as pd\n",
    "from collections import Counter\n",
    "import re\n",
    "import string\n",
    "import warnings\n",
    "\n",
    "# Visualizzazione\n",
    "import matplotlib.pyplot as plt\n",
    "import seaborn as sns\n",
    "import plotly.express as px\n",
    "import plotly.offline as py\n",
    "py.init_notebook_mode(connected=True)\n",
    "\n",
    "# NLP e Preprocessing\n",
    "import nltk\n",
    "from nltk.tokenize import word_tokenize\n",
    "from nltk.corpus import stopwords\n",
    "from nltk.stem import WordNetLemmatizer\n",
    "from wordcloud import WordCloud\n",
    "from sklearn.feature_extraction.text import TfidfVectorizer \n",
    "from collections import Counter\n",
    "\n",
    "# Gestione degli squilibri di classe\n",
    "from imblearn.over_sampling import SMOTE, RandomOverSampler\n",
    "from imblearn.under_sampling import RandomUnderSampler\n",
    "\n",
    "# Machine Learning e Modelli\n",
    "from sklearn.model_selection import train_test_split, GridSearchCV\n",
    "from sklearn.pipeline import Pipeline\n",
    "from sklearn.preprocessing import StandardScaler, LabelEncoder\n",
    "from sklearn.decomposition import TruncatedSVD\n",
    "from sklearn.linear_model import LogisticRegression, SGDClassifier\n",
    "from sklearn.naive_bayes import MultinomialNB, GaussianNB\n",
    "from sklearn.neighbors import KNeighborsClassifier\n",
    "from sklearn.ensemble import RandomForestClassifier\n",
    "from xgboost import XGBClassifier\n",
    "\n",
    "# Metriche di valutazione\n",
    "from sklearn.metrics import (confusion_matrix, ConfusionMatrixDisplay, log_loss, precision_recall_fscore_support, classification_report, accuracy_score, f1_score)\n",
    "from sklearn.metrics import precision_score, recall_score, f1_score, accuracy_score\n",
    "from imblearn.over_sampling import RandomOverSampler\n",
    "from tabulate import tabulate\n",
    "\n",
    "# Utility\n",
    "from sklearn.utils import resample\n",
    "from tqdm import tqdm  # Barra di avanzamento\n",
    "import time\n",
    "from sklearn.exceptions import ConvergenceWarning\n",
    "\n",
    "# Ignorare avvisi\n",
    "warnings.filterwarnings('ignore')\n",
    "warnings.filterwarnings(\"ignore\", category=ConvergenceWarning)\n",
    "warnings.simplefilter(\"ignore\", ConvergenceWarning)"
   ]
  },
  {
   "cell_type": "markdown",
   "id": "95a1b383-df5c-46ec-b763-c8dd5253cc2f",
   "metadata": {},
   "source": [
    "<h2>ESPLORAZIONE DEI DATI (EDA)</h2>"
   ]
  },
  {
   "cell_type": "code",
   "execution_count": 3,
   "id": "bdd586d9-21d6-4245-9b02-c475ed8c1089",
   "metadata": {},
   "outputs": [
    {
     "name": "stdout",
     "output_type": "stream",
     "text": [
      "\n",
      "Dataset            (Righe, Colonne)              \n",
      "--------------------------------------------------\n",
      "Training variants   (3321, 4)                     \n",
      "Training text       (3321, 2)                     \n"
     ]
    }
   ],
   "source": [
    "# Caricamento Dataset\n",
    "training_variants = pd.read_csv(\"/Users/diego/Desktop/TIROCINIO/DATASET/training_variants.csv\")\n",
    "training_text = pd.read_csv(\"/Users/diego/Desktop/TIROCINIO/DATASET/training_text.csv\", sep=\"\\|\\|\", engine='python', header=None, skiprows=1, names=['ID','text'])\n",
    "\n",
    "# Stampa strutturata dei dati\n",
    "print(f\"{'\\nDataset':<20}{'(Righe, Colonne)':<30}\")\n",
    "print(f\"{'-'*50}\")\n",
    "print(f\"{'Training variants':<20}{str(training_variants.shape):<30}\")\n",
    "print(f\"{'Training text':<20}{str(training_text.shape):<30}\")\n"
   ]
  },
  {
   "cell_type": "code",
   "execution_count": 4,
   "id": "201435e6-2e24-45f5-8312-3851903413d4",
   "metadata": {},
   "outputs": [
    {
     "data": {
      "text/html": [
       "<div>\n",
       "<style scoped>\n",
       "    .dataframe tbody tr th:only-of-type {\n",
       "        vertical-align: middle;\n",
       "    }\n",
       "\n",
       "    .dataframe tbody tr th {\n",
       "        vertical-align: top;\n",
       "    }\n",
       "\n",
       "    .dataframe thead th {\n",
       "        text-align: right;\n",
       "    }\n",
       "</style>\n",
       "<table border=\"1\" class=\"dataframe\">\n",
       "  <thead>\n",
       "    <tr style=\"text-align: right;\">\n",
       "      <th></th>\n",
       "      <th>ID</th>\n",
       "      <th>Gene</th>\n",
       "      <th>Variation</th>\n",
       "      <th>Class</th>\n",
       "      <th>text</th>\n",
       "    </tr>\n",
       "  </thead>\n",
       "  <tbody>\n",
       "    <tr>\n",
       "      <th>0</th>\n",
       "      <td>0</td>\n",
       "      <td>FAM58A</td>\n",
       "      <td>Truncating Mutations</td>\n",
       "      <td>1</td>\n",
       "      <td>Cyclin-dependent kinases (CDKs) regulate a var...</td>\n",
       "    </tr>\n",
       "    <tr>\n",
       "      <th>1</th>\n",
       "      <td>1</td>\n",
       "      <td>CBL</td>\n",
       "      <td>W802*</td>\n",
       "      <td>2</td>\n",
       "      <td>Abstract Background  Non-small cell lung canc...</td>\n",
       "    </tr>\n",
       "    <tr>\n",
       "      <th>2</th>\n",
       "      <td>2</td>\n",
       "      <td>CBL</td>\n",
       "      <td>Q249E</td>\n",
       "      <td>2</td>\n",
       "      <td>Abstract Background  Non-small cell lung canc...</td>\n",
       "    </tr>\n",
       "    <tr>\n",
       "      <th>3</th>\n",
       "      <td>3</td>\n",
       "      <td>CBL</td>\n",
       "      <td>N454D</td>\n",
       "      <td>3</td>\n",
       "      <td>Recent evidence has demonstrated that acquired...</td>\n",
       "    </tr>\n",
       "    <tr>\n",
       "      <th>4</th>\n",
       "      <td>4</td>\n",
       "      <td>CBL</td>\n",
       "      <td>L399V</td>\n",
       "      <td>4</td>\n",
       "      <td>Oncogenic mutations in the monomeric Casitas B...</td>\n",
       "    </tr>\n",
       "  </tbody>\n",
       "</table>\n",
       "</div>"
      ],
      "text/plain": [
       "   ID    Gene             Variation  Class  \\\n",
       "0   0  FAM58A  Truncating Mutations      1   \n",
       "1   1     CBL                 W802*      2   \n",
       "2   2     CBL                 Q249E      2   \n",
       "3   3     CBL                 N454D      3   \n",
       "4   4     CBL                 L399V      4   \n",
       "\n",
       "                                                text  \n",
       "0  Cyclin-dependent kinases (CDKs) regulate a var...  \n",
       "1   Abstract Background  Non-small cell lung canc...  \n",
       "2   Abstract Background  Non-small cell lung canc...  \n",
       "3  Recent evidence has demonstrated that acquired...  \n",
       "4  Oncogenic mutations in the monomeric Casitas B...  "
      ]
     },
     "execution_count": 4,
     "metadata": {},
     "output_type": "execute_result"
    }
   ],
   "source": [
    "#unione varianti e testo di addestramento \n",
    "df = pd.merge(training_variants, training_text, on = 'ID')\n",
    "df.head()"
   ]
  },
  {
   "cell_type": "code",
   "execution_count": 5,
   "id": "25a4b30d-f449-498c-b9ce-b005ae48d9b8",
   "metadata": {},
   "outputs": [
    {
     "data": {
      "image/png": "[encoded data removed]",
      "text/plain": [
       "<Figure size 640x480 with 1 Axes>"
      ]
     },
     "metadata": {},
     "output_type": "display_data"
    }
   ],
   "source": [
    "# Conta i valori delle classi e li ordina\n",
    "plot_dist = df['Class'].value_counts().sort_index()\n",
    "\n",
    "# Crea il grafico a barre\n",
    "fig, ax = plt.subplots()\n",
    "\n",
    "# Crea le barre\n",
    "bars = ax.bar(plot_dist.index, plot_dist.values)\n",
    "\n",
    "# Aggiungi il titolo e le etichette\n",
    "ax.set_title('Distribuzione di frequenza per tutte le classi', loc='center', pad=20)\n",
    "ax.set_xlabel('Classe')\n",
    "ax.set_ylabel('Frequenza')\n",
    "\n",
    "# Aggiungi i valori sopra le barre\n",
    "for bar in bars:\n",
    "    yval = bar.get_height()\n",
    "    ax.text(bar.get_x() + bar.get_width()/2, yval, yval, va='bottom', ha='center', fontsize=12)\n",
    "\n",
    "# Imposta il limite massimo dell'asse y a 1200\n",
    "ax.set_ylim(0, 1200)\n",
    "\n",
    "\n",
    "# Imposta i tick dell'asse x per tutte le classi\n",
    "ax.set_xticks(range(0, 10))  # Imposta tick per ogni classe\n",
    "\n",
    "# Mostra il grafico\n",
    "plt.show()\n",
    "\n"
   ]
  },
  {
   "cell_type": "markdown",
   "id": "2164af99-0a21-47c0-9234-b0048583b8cd",
   "metadata": {},
   "source": [
    "<h2>PRE-ELABORAZIONE DEL TESTO</h2>"
   ]
  },
  {
   "cell_type": "code",
   "execution_count": 6,
   "id": "d5c7f16a-715c-4ec1-9d78-64c767fd22c9",
   "metadata": {},
   "outputs": [],
   "source": [
    "from nltk.stem import PorterStemmer\n",
    "\n",
    "# Inserimento di altre stop words manualmente adatte al contesto\n",
    "custom_words = [\"fig\", \"figure\", \"et\", \"al\", \"al.\", \"also\", \"data\", \"analyze\", \"study\", \n",
    "                \"table\", \"using\", \"method\", \"result\", \"conclusion\", \"author\", \"find\", \"found\", \"show\"]\n",
    "\n",
    "# Unione delle stop words di default + la punteggiatura + quelle aggiunte manualmente \n",
    "stop_words = set(stopwords.words('english') + list(string.punctuation) + custom_words)\n",
    "\n",
    "# Inizializzazione dello stemmer\n",
    "stemmer = PorterStemmer()\n",
    "\n",
    "def pre_process(text):\n",
    "    if isinstance(text, float):\n",
    "        return ''  # Gestione di valori float\n",
    "    \n",
    "    text = str(text).lower().strip()\n",
    "    \n",
    "    # Rimozione di punteggiatura, HTML e caratteri speciali\n",
    "    text = re.sub(f'[{re.escape(string.punctuation)}]', ' ', text)\n",
    "    text = re.sub(r'<.*?>+', ' ', text)\n",
    "    text = re.sub(r'[^a-zA-Z0-9\\s]', ' ', text)\n",
    "    text = re.sub(r'\\s+', ' ', text)\n",
    "    \n",
    "    # Tokenizzazione, rimozione stopwords e stemming\n",
    "    tokens = word_tokenize(text)\n",
    "    filtered_tokens = [\n",
    "        stemmer.stem(word) for word in tokens \n",
    "        if word not in stop_words and not word.isdigit() and len(word) > 1  # ignora parole di lunghezza 1\n",
    "    ]\n",
    "    \n",
    "    return ' '.join(filtered_tokens)\n",
    "\n",
    "\n",
    "def process_corpus(df, text_column, class_column):\n",
    "    return df.groupby(class_column).apply(lambda x: Counter(word_tokenize(pre_process(x[text_column].str.cat(sep=' ')))))"
   ]
  },
  {
   "cell_type": "code",
   "execution_count": 7,
   "id": "afb3ecab-41a5-4bcf-9056-475a8af7b26b",
   "metadata": {},
   "outputs": [
    {
     "name": "stdout",
     "output_type": "stream",
     "text": [
      "Preprocessing dei dati...\n"
     ]
    },
    {
     "name": "stderr",
     "output_type": "stream",
     "text": [
      "Preprocessing: 100%|████████████████████████| 3321/3321 [03:27<00:00, 15.98it/s]\n"
     ]
    }
   ],
   "source": [
    "# Preprocessing dei dati con barra di avanzamento\n",
    "print(\"Preprocessing dei dati...\")\n",
    "df['text'] = [pre_process(text) for text in tqdm(df['text'], desc=\"Preprocessing\")]"
   ]
  },
  {
   "cell_type": "code",
   "execution_count": 8,
   "id": "89d85cfb-b805-4894-bafd-78eff06eab29",
   "metadata": {},
   "outputs": [
    {
     "data": {
      "text/html": [
       "<div>\n",
       "<style scoped>\n",
       "    .dataframe tbody tr th:only-of-type {\n",
       "        vertical-align: middle;\n",
       "    }\n",
       "\n",
       "    .dataframe tbody tr th {\n",
       "        vertical-align: top;\n",
       "    }\n",
       "\n",
       "    .dataframe thead th {\n",
       "        text-align: right;\n",
       "    }\n",
       "</style>\n",
       "<table border=\"1\" class=\"dataframe\">\n",
       "  <thead>\n",
       "    <tr style=\"text-align: right;\">\n",
       "      <th></th>\n",
       "      <th>ID</th>\n",
       "      <th>Gene</th>\n",
       "      <th>Variation</th>\n",
       "      <th>Class</th>\n",
       "      <th>text</th>\n",
       "    </tr>\n",
       "  </thead>\n",
       "  <tbody>\n",
       "    <tr>\n",
       "      <th>0</th>\n",
       "      <td>0</td>\n",
       "      <td>FAM58A</td>\n",
       "      <td>Truncating Mutations</td>\n",
       "      <td>1</td>\n",
       "      <td>cyclin depend kinas cdk regul varieti fundamen...</td>\n",
       "    </tr>\n",
       "    <tr>\n",
       "      <th>1</th>\n",
       "      <td>1</td>\n",
       "      <td>CBL</td>\n",
       "      <td>W802*</td>\n",
       "      <td>2</td>\n",
       "      <td>abstract background non small cell lung cancer...</td>\n",
       "    </tr>\n",
       "    <tr>\n",
       "      <th>2</th>\n",
       "      <td>2</td>\n",
       "      <td>CBL</td>\n",
       "      <td>Q249E</td>\n",
       "      <td>2</td>\n",
       "      <td>abstract background non small cell lung cancer...</td>\n",
       "    </tr>\n",
       "    <tr>\n",
       "      <th>3</th>\n",
       "      <td>3</td>\n",
       "      <td>CBL</td>\n",
       "      <td>N454D</td>\n",
       "      <td>3</td>\n",
       "      <td>recent evid demonstr acquir uniparent disomi a...</td>\n",
       "    </tr>\n",
       "    <tr>\n",
       "      <th>4</th>\n",
       "      <td>4</td>\n",
       "      <td>CBL</td>\n",
       "      <td>L399V</td>\n",
       "      <td>4</td>\n",
       "      <td>oncogen mutat monomer casita lineag lymphoma c...</td>\n",
       "    </tr>\n",
       "  </tbody>\n",
       "</table>\n",
       "</div>"
      ],
      "text/plain": [
       "   ID    Gene             Variation  Class  \\\n",
       "0   0  FAM58A  Truncating Mutations      1   \n",
       "1   1     CBL                 W802*      2   \n",
       "2   2     CBL                 Q249E      2   \n",
       "3   3     CBL                 N454D      3   \n",
       "4   4     CBL                 L399V      4   \n",
       "\n",
       "                                                text  \n",
       "0  cyclin depend kinas cdk regul varieti fundamen...  \n",
       "1  abstract background non small cell lung cancer...  \n",
       "2  abstract background non small cell lung cancer...  \n",
       "3  recent evid demonstr acquir uniparent disomi a...  \n",
       "4  oncogen mutat monomer casita lineag lymphoma c...  "
      ]
     },
     "execution_count": 8,
     "metadata": {},
     "output_type": "execute_result"
    }
   ],
   "source": [
    "df.head()"
   ]
  },
  {
   "cell_type": "code",
   "execution_count": 9,
   "id": "449f50fb-95be-4e5d-8734-ff3f0b434d5e",
   "metadata": {},
   "outputs": [
    {
     "data": {
      "text/html": [
       "<div>\n",
       "<style scoped>\n",
       "    .dataframe tbody tr th:only-of-type {\n",
       "        vertical-align: middle;\n",
       "    }\n",
       "\n",
       "    .dataframe tbody tr th {\n",
       "        vertical-align: top;\n",
       "    }\n",
       "\n",
       "    .dataframe thead th {\n",
       "        text-align: right;\n",
       "    }\n",
       "</style>\n",
       "<table border=\"1\" class=\"dataframe\">\n",
       "  <thead>\n",
       "    <tr style=\"text-align: right;\">\n",
       "      <th></th>\n",
       "      <th>ID</th>\n",
       "      <th>Gene</th>\n",
       "      <th>Variation</th>\n",
       "      <th>Class</th>\n",
       "      <th>text</th>\n",
       "    </tr>\n",
       "  </thead>\n",
       "  <tbody>\n",
       "    <tr>\n",
       "      <th>1109</th>\n",
       "      <td>1109</td>\n",
       "      <td>FANCA</td>\n",
       "      <td>S1088F</td>\n",
       "      <td>1</td>\n",
       "      <td></td>\n",
       "    </tr>\n",
       "    <tr>\n",
       "      <th>1277</th>\n",
       "      <td>1277</td>\n",
       "      <td>ARID5B</td>\n",
       "      <td>Truncating Mutations</td>\n",
       "      <td>1</td>\n",
       "      <td></td>\n",
       "    </tr>\n",
       "    <tr>\n",
       "      <th>1407</th>\n",
       "      <td>1407</td>\n",
       "      <td>FGFR3</td>\n",
       "      <td>K508M</td>\n",
       "      <td>6</td>\n",
       "      <td></td>\n",
       "    </tr>\n",
       "    <tr>\n",
       "      <th>1639</th>\n",
       "      <td>1639</td>\n",
       "      <td>FLT1</td>\n",
       "      <td>Amplification</td>\n",
       "      <td>6</td>\n",
       "      <td></td>\n",
       "    </tr>\n",
       "    <tr>\n",
       "      <th>2755</th>\n",
       "      <td>2755</td>\n",
       "      <td>BRAF</td>\n",
       "      <td>G596C</td>\n",
       "      <td>7</td>\n",
       "      <td></td>\n",
       "    </tr>\n",
       "  </tbody>\n",
       "</table>\n",
       "</div>"
      ],
      "text/plain": [
       "        ID    Gene             Variation  Class text\n",
       "1109  1109   FANCA                S1088F      1     \n",
       "1277  1277  ARID5B  Truncating Mutations      1     \n",
       "1407  1407   FGFR3                 K508M      6     \n",
       "1639  1639    FLT1         Amplification      6     \n",
       "2755  2755    BRAF                 G596C      7     "
      ]
     },
     "execution_count": 9,
     "metadata": {},
     "output_type": "execute_result"
    }
   ],
   "source": [
    "# Cerchiamo righe con valori nulli o con la colonna 'text' vuota\n",
    "df[df.isnull().any(axis=1) | (df['text'] == '')]\n"
   ]
  },
  {
   "cell_type": "code",
   "execution_count": 10,
   "id": "fa0a2199-1ec4-4777-96c1-5dbe4403147b",
   "metadata": {},
   "outputs": [
    {
     "data": {
      "text/html": [
       "<div>\n",
       "<style scoped>\n",
       "    .dataframe tbody tr th:only-of-type {\n",
       "        vertical-align: middle;\n",
       "    }\n",
       "\n",
       "    .dataframe tbody tr th {\n",
       "        vertical-align: top;\n",
       "    }\n",
       "\n",
       "    .dataframe thead th {\n",
       "        text-align: right;\n",
       "    }\n",
       "</style>\n",
       "<table border=\"1\" class=\"dataframe\">\n",
       "  <thead>\n",
       "    <tr style=\"text-align: right;\">\n",
       "      <th></th>\n",
       "      <th>ID</th>\n",
       "      <th>Gene</th>\n",
       "      <th>Variation</th>\n",
       "      <th>Class</th>\n",
       "      <th>text</th>\n",
       "    </tr>\n",
       "  </thead>\n",
       "  <tbody>\n",
       "  </tbody>\n",
       "</table>\n",
       "</div>"
      ],
      "text/plain": [
       "Empty DataFrame\n",
       "Columns: [ID, Gene, Variation, Class, text]\n",
       "Index: []"
      ]
     },
     "execution_count": 10,
     "metadata": {},
     "output_type": "execute_result"
    }
   ],
   "source": [
    "# Elimina righe con valori nulli o con campo 'text' vuoto\n",
    "df = df.dropna(subset=[\"text\"]).loc[df['text'] != '']\n",
    "\n",
    "# Cerchiamo nuovamente righe con valori nulli o con la colonna 'text' vuota\n",
    "df[df.isnull().any(axis=1) | (df['text'] == '')]\n"
   ]
  },
  {
   "cell_type": "code",
   "execution_count": 11,
   "id": "493be7ee-9b5a-4688-bffe-0850460f654d",
   "metadata": {},
   "outputs": [
    {
     "data": {
      "image/png": "[encoded data removed]",
      "text/plain": [
       "<Figure size 640x480 with 1 Axes>"
      ]
     },
     "metadata": {},
     "output_type": "display_data"
    }
   ],
   "source": [
    "# Conta i valori delle classi e li ordina\n",
    "plot_dist = df['Class'].value_counts().sort_index()\n",
    "\n",
    "# Crea il grafico a barre\n",
    "fig, ax = plt.subplots()\n",
    "\n",
    "# Crea le barre\n",
    "bars = ax.bar(plot_dist.index, plot_dist.values)\n",
    "\n",
    "# Aggiungi il titolo e le etichette\n",
    "ax.set_title('Distribuzione di frequenza per tutte le classi', loc='center', pad=20)\n",
    "ax.set_xlabel('Classe')\n",
    "ax.set_ylabel('Frequenza')\n",
    "\n",
    "# Aggiungi i valori sopra le barre\n",
    "for bar in bars:\n",
    "    yval = bar.get_height()\n",
    "    ax.text(bar.get_x() + bar.get_width()/2, yval, yval, va='bottom', ha='center', fontsize=12)\n",
    "\n",
    "# Imposta il limite massimo dell'asse y a 1200\n",
    "ax.set_ylim(0, 1200)\n",
    "\n",
    "\n",
    "# Imposta i tick dell'asse x per tutte le classi\n",
    "ax.set_xticks(range(0, 10))  # Imposta tick per ogni classe\n",
    "\n",
    "# Mostra il grafico\n",
    "plt.show()\n"
   ]
  },
  {
   "cell_type": "markdown",
   "id": "eef30934-c3eb-4d52-b4d3-0347e5b7ed81",
   "metadata": {},
   "source": [
    "<h2>ANALISI DELLE FEATURES:</h2>"
   ]
  },
  {
   "cell_type": "markdown",
   "id": "822be75e-38e5-49f0-9327-23bbc731e44d",
   "metadata": {},
   "source": [
    "<h3> - GENI</h3>"
   ]
  },
  {
   "cell_type": "code",
   "execution_count": 12,
   "id": "669e6fe7-577d-4e08-8c80-479bbb892e7d",
   "metadata": {},
   "outputs": [
    {
     "name": "stdout",
     "output_type": "stream",
     "text": [
      "Numero di Geni Unici: 262\n",
      " \n",
      "Top 5 Geni più frequenti:\n",
      " \n",
      "BRCA1: 264\n",
      "TP53: 163\n",
      "EGFR: 141\n",
      "PTEN: 126\n",
      "BRCA2: 125\n"
     ]
    }
   ],
   "source": [
    "unique_genes = df['Gene'].value_counts()\n",
    "\n",
    "# Stampa del numero di geni unici\n",
    "print('Numero di Geni Unici:', unique_genes.shape[0])\n",
    "print(' ')\n",
    "# Stampa dei top 5 geni più frequenti \n",
    "print(\"Top 5 Geni più frequenti:\")\n",
    "print(' ')\n",
    "for gene, count in unique_genes.head(5).items():\n",
    "    print(f'{gene}: {count}')\n"
   ]
  },
  {
   "cell_type": "code",
   "execution_count": 13,
   "id": "5ad26505-c9c3-4c4b-afbb-4130d1d8315b",
   "metadata": {},
   "outputs": [
    {
     "data": {
      "image/png": "[encoded data removed]",
      "text/plain": [
       "<Figure size 900x900 with 9 Axes>"
      ]
     },
     "metadata": {},
     "output_type": "display_data"
    }
   ],
   "source": [
    "# Creazione dei sottotitoli per il grafico\n",
    "fig, axes = plt.subplots(nrows=3, ncols=3, sharey=True, figsize=(9, 9))\n",
    "\n",
    "# Normalizzazione dei conteggi per una migliore comparazione\n",
    "def normalize_group(x):\n",
    "    label, repetition = x.index, x\n",
    "    t = sum(repetition)\n",
    "    r = [n/t for n in repetition]\n",
    "    return label, r\n",
    "\n",
    "# Creazione dei grafici per ogni classe\n",
    "for idx, g in enumerate(df.groupby('Class')):\n",
    "    label, val = normalize_group(g[1][\"Gene\"].value_counts())\n",
    "    ax = axes.flat[idx]\n",
    "    ax.bar(np.arange(5), val[:5], tick_label=label[:5]) \n",
    "    ax.set_title(\"Classe {}\".format(g[0]))\n",
    "\n",
    "# Etichette\n",
    "fig.text(0.5, 0.97, '(Top 5) Frequenza dei Geni per Classe', ha='center', fontsize=14, fontweight='bold')\n",
    "fig.text(0.5, 0, 'Gene', ha='center', fontweight='bold')\n",
    "fig.text(0, 0.5, 'Frequenza', va='center', rotation='vertical', fontweight='bold')\n",
    "\n",
    "# Ottimizzazione del layout\n",
    "fig.tight_layout(rect=[0.03, 0.03, 0.95, 0.95])\n"
   ]
  },
  {
   "cell_type": "markdown",
   "id": "199d712c-8b03-4f0c-be75-517c7c152259",
   "metadata": {},
   "source": [
    "<h3> - VARIANTI</h3>"
   ]
  },
  {
   "cell_type": "code",
   "execution_count": 14,
   "id": "ffb3dab3-2783-4063-8697-05bc89eef713",
   "metadata": {},
   "outputs": [
    {
     "name": "stdout",
     "output_type": "stream",
     "text": [
      "Numero di Varianti Uniche: 2993\n",
      " \n",
      "Top 5 Varianti più frequenti:\n",
      " \n",
      "Truncating Mutations: 92\n",
      "Deletion: 74\n",
      "Amplification: 70\n",
      "Fusions: 34\n",
      "Overexpression: 6\n",
      "G12V: 4\n",
      "Q61L: 3\n",
      "E17K: 3\n",
      "T58I: 3\n",
      "Q61R: 3\n"
     ]
    }
   ],
   "source": [
    "unique_variations = df['Variation'].value_counts()\n",
    "\n",
    "# Stampa del numero di Varianti uniche\n",
    "print('Numero di Varianti Uniche:', unique_variations.shape[0])\n",
    "print(' ')\n",
    "\n",
    "# Stampa delle top 10 Varianti più frequenti senza \"name\" e \"dtype\"\n",
    "print(\"Top 5 Varianti più frequenti:\")\n",
    "print(' ')\n",
    "for variation, count in unique_variations.head(10).items():\n",
    "    print(f'{variation}: {count}')"
   ]
  },
  {
   "cell_type": "code",
   "execution_count": 15,
   "id": "93b7f399-5247-4624-9ae4-9da5ea4fe740",
   "metadata": {},
   "outputs": [
    {
     "data": {
      "image/png": "[encoded data removed]",
      "text/plain": [
       "<Figure size 640x480 with 1 Axes>"
      ]
     },
     "metadata": {},
     "output_type": "display_data"
    }
   ],
   "source": [
    "# Conta i valori delle varianti e prendi solo le prime 10 più frequenti\n",
    "variations_data = df['Variation'].value_counts().head(10)\n",
    "\n",
    "# Crea il grafico a barre\n",
    "fig, ax = plt.subplots()\n",
    "\n",
    "# Crea le barre\n",
    "bars = ax.bar(variations_data.index, variations_data.values)\n",
    "\n",
    "# Aggiungi il titolo e le etichette\n",
    "ax.set_title('Distribuzione delle 10 varianti più frequenti', loc='center', pad=20)\n",
    "ax.set_xlabel('Variante')  # Titolo dell'asse x\n",
    "ax.set_ylabel('Frequenza')  # Titolo dell'asse y\n",
    "\n",
    "# Aggiungi i valori sopra le barre\n",
    "for bar in bars:\n",
    "    yval = bar.get_height()\n",
    "    ax.text(bar.get_x() + bar.get_width()/2, yval, yval, va='bottom', ha='center', fontsize=12)\n",
    "\n",
    "# Imposta il limite dell'asse y e i tick\n",
    "ax.set_ylim(0, 120)  # Imposta il limite massimo dell'asse y a 120\n",
    "ax.set_yticks(range(0, 121, 20))  # Imposta i tick dell'asse y da 0 a 120, con intervallo di 20\n",
    "\n",
    "# Personalizzazione del font\n",
    "plt.xticks(rotation=45, ha='right')  # Ruota le etichette dell'asse x se necessario\n",
    "plt.subplots_adjust(bottom=0.2)  # Aggiungi spazio in basso se le etichette sono lunghe\n",
    "\n",
    "# Mostra il grafico\n",
    "plt.show()\n"
   ]
  },
  {
   "cell_type": "code",
   "execution_count": 16,
   "id": "9d6a25d1-de9c-404d-95bb-229cc1d52d9b",
   "metadata": {},
   "outputs": [
    {
     "data": {
      "image/png": "[encoded data removed]",
      "text/plain": [
       "<Figure size 1200x800 with 1 Axes>"
      ]
     },
     "metadata": {},
     "output_type": "display_data"
    }
   ],
   "source": [
    "\n",
    "# Unione di tutto il testo in una singola stringa\n",
    "all_text = ' '.join(df['text'].dropna())\n",
    "\n",
    "# Tokenizzazione del testo e conteggio delle parole\n",
    "tokens = all_text.split()  # Dividi il testo in parole\n",
    "word_counts = Counter(tokens)  # Conta la frequenza di ogni parola\n",
    "\n",
    "# Converti il conteggio delle parole in un DataFrame ordinato\n",
    "word_freq_df = pd.DataFrame(word_counts.items(), columns=['word', 'frequency']).sort_values(by='frequency', ascending=False)\n",
    "\n",
    "# Filtra per le parole più frequenti (ad esempio le prime 20)\n",
    "top_words_df = word_freq_df.head(20)\n",
    "\n",
    "# Crea il grafico delle parole ordinate per frequenza\n",
    "plt.figure(figsize=(12, 8))\n",
    "sns.barplot(data=top_words_df, y='word', x='frequency', palette='viridis')\n",
    "plt.xlabel('Frequenza')\n",
    "plt.ylabel('Parola')\n",
    "plt.title('Parole più frequenti nel dataset')\n",
    "plt.show()\n"
   ]
  },
  {
   "cell_type": "markdown",
   "id": "974519a7-db6b-437d-86d0-e3019362f478",
   "metadata": {},
   "source": [
    "<h2> MODELLAZIONE</h2>"
   ]
  },
  {
   "cell_type": "code",
   "execution_count": 17,
   "id": "aa1563fc-8077-445b-bf12-0e1b18e3e070",
   "metadata": {},
   "outputs": [],
   "source": [
    "# Separazione delle feature e del target\n",
    "X = df['text']\n",
    "y = df['Class']\n",
    "\n",
    "# Funzione per ottenere i modelli\n",
    "def get_models():\n",
    "    models = {\n",
    "        \"RF\": RandomForestClassifier(),\n",
    "        \"KNN\": KNeighborsClassifier(),\n",
    "        \"LR\": LogisticRegression(),\n",
    "        \"XGBoost\": XGBClassifier()\n",
    "    }\n",
    "    return models"
   ]
  },
  {
   "cell_type": "code",
   "execution_count": 18,
   "id": "cac5ffdf-3ac5-41d9-872d-e7d80ef642f2",
   "metadata": {},
   "outputs": [],
   "source": [
    "# Definizione delle griglie di parametri per i modelli\n",
    "def get_param_grids():\n",
    "    param_grids = {\n",
    "        \"RF\": {\n",
    "            \"n_estimators\": [50, 100, 200],\n",
    "            \"max_depth\": [10, 20, 30, None],\n",
    "        },\n",
    "        \n",
    "        \"KNN\": {\n",
    "            \"n_neighbors\": [3, 5, 7],\n",
    "            \"weights\": ['uniform', 'distance'],\n",
    "        },\n",
    "        \n",
    "        \"LR\": {},\n",
    "        \n",
    "        \"XGBoost\": {\n",
    "            \"learning_rate\": [0.1], \n",
    "            \"n_estimators\": [50, 100, 150],\n",
    "            \"max_depth\": [3, 6, 9],\n",
    "        }\n",
    "    }\n",
    "    return param_grids\n"
   ]
  },
  {
   "cell_type": "code",
   "execution_count": 19,
   "id": "9decd838-c06b-4aaf-aac0-83e26cdf623c",
   "metadata": {},
   "outputs": [],
   "source": [
    "# Funzione GridSearch con Cross Validazione\n",
    "def perform_grid_search(model, X_train, y_train, param_grid):\n",
    "    # GridSearch con Cross-Validation\n",
    "    grid_search = GridSearchCV(estimator=model, param_grid=param_grid, scoring='f1_weighted', cv=5, n_jobs=-1, verbose=0)\n",
    "    \n",
    "    # Fitting del modello\n",
    "    grid_search.fit(X_train, y_train)\n",
    "    \n",
    "    # Migliori parametri trovati\n",
    "    best_params = grid_search.best_params_\n",
    "    best_model = grid_search.best_estimator_\n",
    "    \n",
    "    return best_model, best_params\n"
   ]
  },
  {
   "cell_type": "code",
   "execution_count": 20,
   "id": "d45d3adb-5ee8-41d2-a9c3-ad0bcbc03f84",
   "metadata": {},
   "outputs": [],
   "source": [
    "# Funzione per valutare il modello\n",
    "def evaluate_model(model, X_test, y_test):\n",
    "    # Predizioni\n",
    "    y_pred = model.predict(X_test)\n",
    "    \n",
    "    # Calcolo delle metriche\n",
    "    precision = precision_score(y_test, y_pred, average='weighted')\n",
    "    recall = recall_score(y_test, y_pred, average='weighted')\n",
    "    f1 = f1_score(y_test, y_pred, average='weighted')\n",
    "    accuracy = accuracy_score(y_test, y_pred)\n",
    "    \n",
    "    return precision, recall, f1, accuracy\n"
   ]
  },
  {
   "cell_type": "code",
   "execution_count": 21,
   "id": "e2ec7169-1d06-469f-8754-2c0ab0188c5d",
   "metadata": {},
   "outputs": [],
   "source": [
    "# Dataset originario diviso in (80/20) train e test con TF-IDF e SVD\n",
    "def process_original_dataset(X, y):\n",
    "    X_train, X_test, y_train, y_test = train_test_split(X, y, test_size=0.2, random_state=42)\n",
    "    \n",
    "    tfidf = TfidfVectorizer(max_features=1000)\n",
    "    svd = TruncatedSVD(n_components=100)\n",
    "    \n",
    "    X_train_tfidf = tfidf.fit_transform(X_train)\n",
    "    X_test_tfidf = tfidf.transform(X_test)\n",
    "    \n",
    "    X_train_svd = svd.fit_transform(X_train_tfidf)\n",
    "    X_test_svd = svd.transform(X_test_tfidf)\n",
    "    \n",
    "    scaler = StandardScaler()\n",
    "    X_train_scaled = scaler.fit_transform(X_train_svd)\n",
    "    X_test_scaled = scaler.transform(X_test_svd)\n",
    "    \n",
    "    return X_train_scaled, X_test_scaled, y_train, y_test"
   ]
  },
  {
   "cell_type": "code",
   "execution_count": 22,
   "id": "05efd6c3-52f2-41db-a800-af64a213a311",
   "metadata": {},
   "outputs": [],
   "source": [
    "# Dataset bilanciato con RandomOverSampler e poi diviso in (80/20) train, test con TF-IDF e SVD\n",
    "def process_balanced_dataset(X, y):\n",
    "    ros = RandomOverSampler(random_state=42)\n",
    "    X_resampled, y_resampled = ros.fit_resample(X.values.reshape(-1, 1), y)\n",
    "    X_resampled = pd.Series(X_resampled.flatten())\n",
    "    \n",
    "    X_train, X_test, y_train, y_test = train_test_split(X_resampled, y_resampled, test_size=0.2, random_state=42)\n",
    "    \n",
    "    tfidf = TfidfVectorizer(max_features=1000)\n",
    "    svd = TruncatedSVD(n_components=100)\n",
    "    \n",
    "    X_train_tfidf = tfidf.fit_transform(X_train)\n",
    "    X_test_tfidf = tfidf.transform(X_test)\n",
    "    \n",
    "    X_train_svd = svd.fit_transform(X_train_tfidf)\n",
    "    X_test_svd = svd.transform(X_test_tfidf)\n",
    "    \n",
    "    scaler = StandardScaler()\n",
    "    X_train_scaled = scaler.fit_transform(X_train_svd)\n",
    "    X_test_scaled = scaler.transform(X_test_svd)\n",
    "    \n",
    "    return X_train_scaled, X_test_scaled, y_train, y_test"
   ]
  },
  {
   "cell_type": "code",
   "execution_count": 23,
   "id": "c76e0b03-598b-4978-8df2-e2882e2ae4c1",
   "metadata": {},
   "outputs": [],
   "source": [
    "from sklearn.preprocessing import LabelEncoder\n",
    "\n",
    "# Funzione per addestrare, ottimizzare e testare i modelli su un dataset specifico\n",
    "def train_evaluate_model(model, model_name, X, y, dataset_type):\n",
    "    if dataset_type == \"original\":\n",
    "        X_train, X_test, y_train, y_test = process_original_dataset(X, y)\n",
    "    elif dataset_type == \"balanced\":\n",
    "        X_train, X_test, y_train, y_test = process_balanced_dataset(X, y)\n",
    "    else:\n",
    "        raise ValueError(\"Invalid dataset type. Choose 'original' or 'balanced'.\")\n",
    "    \n",
    "    param_grids = get_param_grids()\n",
    "    \n",
    "    # Se si utilizza XGBoost, codifica le etichette\n",
    "    if model_name == \"XGBoost\":\n",
    "        label_encoder = LabelEncoder()\n",
    "        y_train = label_encoder.fit_transform(y_train)\n",
    "        y_test = label_encoder.transform(y_test)\n",
    "    \n",
    "    best_model, best_params = perform_grid_search(model, X_train, y_train, param_grids[model_name])\n",
    "    precision, recall, f1, accuracy = evaluate_model(best_model, X_test, y_test)\n",
    "    \n",
    "    # Arrotonda le metriche a 4 cifre decimali\n",
    "    precision = round(precision, 4)\n",
    "    recall = round(recall, 4)\n",
    "    f1 = round(f1, 4)\n",
    "    accuracy = round(accuracy, 4)\n",
    "    \n",
    "    return [model_name, precision, recall, f1, accuracy]\n"
   ]
  },
  {
   "cell_type": "code",
   "execution_count": 24,
   "id": "aa4a79aa-34f6-4d46-94bf-72cb3cd78b7c",
   "metadata": {},
   "outputs": [
    {
     "name": "stdout",
     "output_type": "stream",
     "text": [
      "Valutazione su set di Test per RandomForest Classifier\n",
      "+------------+---------+-------------+----------+------------+------------+\n",
      "| Dataset    | Model   |   Precision |   Recall |   F1 Score |   Accuracy |\n",
      "+============+=========+=============+==========+============+============+\n",
      "| Originale  | RF      |      0.6191 |   0.6235 |     0.6114 |     0.6235 |\n",
      "+------------+---------+-------------+----------+------------+------------+\n",
      "| Bilanciato | RF      |      0.8557 |   0.8571 |     0.8557 |     0.8571 |\n",
      "+------------+---------+-------------+----------+------------+------------+\n"
     ]
    }
   ],
   "source": [
    "# Sezione per il modello RandomForest\n",
    "print(\"Valutazione su set di Test per RandomForest Classifier\")\n",
    "rf_results_original = [\"Originale\"] + train_evaluate_model(RandomForestClassifier(), \"RF\", X, y, \"original\")\n",
    "rf_results_balanced = [\"Bilanciato\"] + train_evaluate_model(RandomForestClassifier(), \"RF\", X, y, \"balanced\")\n",
    "\n",
    "rf_results = [rf_results_original, rf_results_balanced]\n",
    "\n",
    "headers = [\"Dataset\", \"Model\", \"Precision\", \"Recall\", \"F1 Score\", \"Accuracy\"]\n",
    "\n",
    "print(tabulate(rf_results, headers=headers, tablefmt=\"grid\"))"
   ]
  },
  {
   "cell_type": "code",
   "execution_count": 25,
   "id": "76874dcb-bf66-4968-b761-4ea193bd636e",
   "metadata": {},
   "outputs": [
    {
     "name": "stdout",
     "output_type": "stream",
     "text": [
      "\n",
      "Valutazione su set di Test per KNeighbors Classifier\n",
      "+------------+---------+-------------+----------+------------+------------+\n",
      "| Dataset    | Model   |   Precision |   Recall |   F1 Score |   Accuracy |\n",
      "+============+=========+=============+==========+============+============+\n",
      "| Originale  | KNN     |      0.6033 |   0.6175 |     0.6035 |     0.6175 |\n",
      "+------------+---------+-------------+----------+------------+------------+\n",
      "| Bilanciato | KNN     |      0.8375 |   0.8384 |     0.8362 |     0.8384 |\n",
      "+------------+---------+-------------+----------+------------+------------+\n"
     ]
    }
   ],
   "source": [
    "# Sezione per il modello KNeighbors\n",
    "print(\"\\nValutazione su set di Test per KNeighbors Classifier\")\n",
    "knn_results_original = [\"Originale\"] + train_evaluate_model(KNeighborsClassifier(), \"KNN\", X, y, \"original\")\n",
    "knn_results_balanced = [\"Bilanciato\"] + train_evaluate_model(KNeighborsClassifier(), \"KNN\", X, y, \"balanced\")\n",
    "\n",
    "knn_results = [knn_results_original, knn_results_balanced]\n",
    "\n",
    "headers = [\"Dataset\", \"Model\", \"Precision\", \"Recall\", \"F1 Score\", \"Accuracy\"]\n",
    "\n",
    "# Stampa la tabella formattata\n",
    "print(tabulate(knn_results, headers=headers, tablefmt=\"grid\"))"
   ]
  },
  {
   "cell_type": "code",
   "execution_count": 26,
   "id": "a74b7d5a-efcc-46c2-bf58-59e8ad0c6fa1",
   "metadata": {},
   "outputs": [
    {
     "name": "stdout",
     "output_type": "stream",
     "text": [
      "\n",
      "Valutazione su set di Test per LogisticRegression Classifier\n",
      "+------------+---------+-------------+----------+------------+------------+\n",
      "| Dataset    | Model   |   Precision |   Recall |   F1 Score |   Accuracy |\n",
      "+============+=========+=============+==========+============+============+\n",
      "| Originale  | LR      |      0.5531 |   0.5617 |     0.5484 |     0.5617 |\n",
      "+------------+---------+-------------+----------+------------+------------+\n",
      "| Bilanciato | LR      |      0.7162 |   0.7217 |     0.7185 |     0.7217 |\n",
      "+------------+---------+-------------+----------+------------+------------+\n"
     ]
    }
   ],
   "source": [
    "# Sezione per il modello LogisticRegression\n",
    "print(\"\\nValutazione su set di Test per LogisticRegression Classifier\")\n",
    "lr_results_original = [\"Originale\"] + train_evaluate_model(LogisticRegression(max_iter=500), \"LR\", X, y, \"original\")\n",
    "lr_results_balanced = [\"Bilanciato\"] + train_evaluate_model(LogisticRegression(), \"LR\", X, y, \"balanced\")\n",
    "\n",
    "lr_results = [lr_results_original, lr_results_balanced]\n",
    "\n",
    "headers = [\"Dataset\", \"Model\", \"Precision\", \"Recall\", \"F1 Score\", \"Accuracy\"]\n",
    "\n",
    "print(tabulate(lr_results, headers=headers, tablefmt=\"grid\"))"
   ]
  },
  {
   "cell_type": "code",
   "execution_count": 27,
   "id": "c5dd6fd0-0b90-450b-8663-f8b8dcc4c2ad",
   "metadata": {},
   "outputs": [
    {
     "name": "stdout",
     "output_type": "stream",
     "text": [
      "\n",
      "Valutazione su set di Test per XGBoost Classifier\n",
      "+------------+---------+-------------+----------+------------+------------+\n",
      "| Dataset    | Model   |   Precision |   Recall |   F1 Score |   Accuracy |\n",
      "+============+=========+=============+==========+============+============+\n",
      "| Originale  | XGBoost |      0.6327 |   0.6386 |     0.6294 |     0.6386 |\n",
      "+------------+---------+-------------+----------+------------+------------+\n",
      "| Bilanciato | XGBoost |      0.8563 |   0.8576 |     0.8562 |     0.8576 |\n",
      "+------------+---------+-------------+----------+------------+------------+\n"
     ]
    }
   ],
   "source": [
    "# Sezione per il modello XGBoost\n",
    "print(\"\\nValutazione su set di Test per XGBoost Classifier\")\n",
    "xgb_results_original = [\"Originale\"] + train_evaluate_model(XGBClassifier(), \"XGBoost\", X, y, \"original\")\n",
    "xgb_results_balanced = [\"Bilanciato\"] + train_evaluate_model(XGBClassifier(), \"XGBoost\", X, y, \"balanced\")\n",
    "\n",
    "xgb_results = [xgb_results_original, xgb_results_balanced]\n",
    "\n",
    "headers = [\"Dataset\", \"Model\", \"Precision\", \"Recall\", \"F1 Score\", \"Accuracy\"]\n",
    "\n",
    "print(tabulate(xgb_results, headers=headers, tablefmt=\"grid\"))"
   ]
  },
  {
   "cell_type": "code",
   "execution_count": 28,
   "id": "b9f0dbbb-8c5f-4703-9757-a64a43d22cf8",
   "metadata": {},
   "outputs": [
    {
     "name": "stdout",
     "output_type": "stream",
     "text": [
      "\n",
      "Valutazioni su Dataset Non Bilanciato\n",
      "+-----------+---------+-------------+----------+------------+------------+\n",
      "| Dataset   | Model   |   Precision |   Recall |   F1 Score |   Accuracy |\n",
      "+===========+=========+=============+==========+============+============+\n",
      "| Originale | RF      |      0.6191 |   0.6235 |     0.6114 |     0.6235 |\n",
      "+-----------+---------+-------------+----------+------------+------------+\n",
      "| Originale | KNN     |      0.6033 |   0.6175 |     0.6035 |     0.6175 |\n",
      "+-----------+---------+-------------+----------+------------+------------+\n",
      "| Originale | LR      |      0.5531 |   0.5617 |     0.5484 |     0.5617 |\n",
      "+-----------+---------+-------------+----------+------------+------------+\n",
      "| Originale | XGBoost |      0.6327 |   0.6386 |     \u001b[1m0.6294\u001b[0m |     0.6386 |\n",
      "+-----------+---------+-------------+----------+------------+------------+\n",
      "\n",
      "Valutazioni su Dataset Bilanciato\n",
      "+------------+---------+-------------+----------+------------+------------+\n",
      "| Dataset    | Model   |   Precision |   Recall |   F1 Score |   Accuracy |\n",
      "+============+=========+=============+==========+============+============+\n",
      "| Bilanciato | RF      |      0.8557 |   0.8571 |     0.8557 |     0.8571 |\n",
      "+------------+---------+-------------+----------+------------+------------+\n",
      "| Bilanciato | KNN     |      0.8375 |   0.8384 |     0.8362 |     0.8384 |\n",
      "+------------+---------+-------------+----------+------------+------------+\n",
      "| Bilanciato | LR      |      0.7162 |   0.7217 |     0.7185 |     0.7217 |\n",
      "+------------+---------+-------------+----------+------------+------------+\n",
      "| Bilanciato | XGBoost |      0.8563 |   0.8576 |     \u001b[1m0.8562\u001b[0m |     0.8576 |\n",
      "+------------+---------+-------------+----------+------------+------------+\n"
     ]
    }
   ],
   "source": [
    "from tabulate import tabulate\n",
    "\n",
    "# Funzione per evidenziare il valore migliore in grassetto\n",
    "def bold_best_f1(results, metric_index):\n",
    "    # Filtrare solo i valori numerici per evitare problemi di confronto con stringhe\n",
    "    numeric_results = [row[metric_index] for row in results if isinstance(row[metric_index], (int, float))]\n",
    "    \n",
    "    # Identificare il miglior valore di F1\n",
    "    best_value = max(numeric_results)\n",
    "    \n",
    "    # Evidenziare in grassetto il miglior valore di F1\n",
    "    for i in range(len(results)):\n",
    "        if isinstance(results[i][metric_index], (int, float)) and results[i][metric_index] == best_value:\n",
    "            results[i][metric_index] = f\"\\033[1m{best_value}\\033[0m\"\n",
    "    \n",
    "    return results\n",
    "\n",
    "# Lista dei risultati per il dataset non bilanciato\n",
    "original_results = [\n",
    "    rf_results_original,\n",
    "    knn_results_original,\n",
    "    lr_results_original,\n",
    "    xgb_results_original\n",
    "]\n",
    "\n",
    "# Lista dei risultati per il dataset bilanciato\n",
    "balanced_results = [\n",
    "    rf_results_balanced,\n",
    "    knn_results_balanced,\n",
    "    lr_results_balanced,\n",
    "    xgb_results_balanced\n",
    "]\n",
    "\n",
    "# Evidenzia il miglior F1-Score per il dataset non bilanciato\n",
    "original_results = bold_best_f1(original_results, 4)  # Modificato l'indice a 4 per F1-score\n",
    "\n",
    "# Evidenzia il miglior F1-Score per il dataset bilanciato\n",
    "balanced_results = bold_best_f1(balanced_results, 4)  # Modificato l'indice a 4 per F1-score\n",
    "\n",
    "# Stampa la tabella per il dataset non bilanciato\n",
    "print(\"\\nValutazioni su Dataset Non Bilanciato\")\n",
    "headers = [\"Dataset\", \"Model\", \"Precision\", \"Recall\", \"F1 Score\", \"Accuracy\"]\n",
    "print(tabulate(original_results, headers=headers, tablefmt=\"grid\"))\n",
    "\n",
    "# Stampa la tabella per il dataset bilanciato\n",
    "print(\"\\nValutazioni su Dataset Bilanciato\")\n",
    "print(tabulate(balanced_results, headers=headers, tablefmt=\"grid\"))\n"
   ]
  },
  {
   "cell_type": "code",
   "execution_count": null,
   "id": "a90f856c-a261-490f-bdcb-a8ac54945135",
   "metadata": {},
   "outputs": [],
   "source": []
  }
 ],
 "metadata": {
  "kernelspec": {
   "display_name": "Python 3 (ipykernel)",
   "language": "python",
   "name": "python3"
  },
  "language_info": {
   "codemirror_mode": {
    "name": "ipython",
    "version": 3
   },
   "file_extension": ".py",
   "mimetype": "text/x-python",
   "name": "python",
   "nbconvert_exporter": "python",
   "pygments_lexer": "ipython3",
   "version": "3.12.6"
  }
 },
 "nbformat": 4,
 "nbformat_minor": 5
}
