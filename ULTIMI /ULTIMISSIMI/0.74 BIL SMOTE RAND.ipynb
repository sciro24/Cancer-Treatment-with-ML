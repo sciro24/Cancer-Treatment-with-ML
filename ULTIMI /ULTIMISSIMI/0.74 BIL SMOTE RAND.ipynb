{
 "cells": [
  {
   "cell_type": "code",
   "execution_count": 1,
   "id": "e718bdaf-2941-4261-aa72-eb6d49f5f914",
   "metadata": {},
   "outputs": [
    {
     "name": "stdout",
     "output_type": "stream",
     "text": [
      "Note: you may need to restart the kernel to use updated packages.\n"
     ]
    }
   ],
   "source": [
    "pip install --quiet --upgrade pip scipy matplotlib wordcloud seaborn nltk scikit-learn plotly nbformat imbalanced-learn tqdm xgboost pillow tabulate"
   ]
  },
  {
   "cell_type": "code",
   "execution_count": 2,
   "id": "dd79d016-b671-4219-9286-1967f5379e3c",
   "metadata": {},
   "outputs": [
    {
     "data": {
      "text/html": [
       "        <script type=\"text/javascript\">\n",
       "        window.PlotlyConfig = {MathJaxConfig: 'local'};\n",
       "        if (window.MathJax && window.MathJax.Hub && window.MathJax.Hub.Config) {window.MathJax.Hub.Config({SVG: {font: \"STIX-Web\"}});}\n",
       "        if (typeof require !== 'undefined') {\n",
       "        require.undef(\"plotly\");\n",
       "        requirejs.config({\n",
       "            paths: {\n",
       "                'plotly': ['https://cdn.plot.ly/plotly-2.35.2.min']\n",
       "            }\n",
       "        });\n",
       "        require(['plotly'], function(Plotly) {\n",
       "            window._Plotly = Plotly;\n",
       "        });\n",
       "        }\n",
       "        </script>\n",
       "        "
      ]
     },
     "metadata": {},
     "output_type": "display_data"
    }
   ],
   "source": [
    "# Calcolo e manipolazione dati\n",
    "import numpy as np\n",
    "import pandas as pd\n",
    "from collections import Counter\n",
    "import re\n",
    "import string\n",
    "import warnings\n",
    "\n",
    "# NLP e Preprocessing\n",
    "import nltk\n",
    "from nltk.tokenize import word_tokenize\n",
    "from nltk.corpus import stopwords\n",
    "from nltk.stem import WordNetLemmatizer, PorterStemmer\n",
    "from wordcloud import WordCloud\n",
    "from sklearn.feature_extraction.text import TfidfVectorizer\n",
    "\n",
    "# Gestione degli squilibri di classe\n",
    "from imblearn.over_sampling import SMOTE, RandomOverSampler\n",
    "from imblearn.under_sampling import RandomUnderSampler\n",
    "\n",
    "# Machine Learning e Modelli\n",
    "from sklearn.model_selection import train_test_split, GridSearchCV\n",
    "from sklearn.pipeline import Pipeline\n",
    "from sklearn.preprocessing import StandardScaler, LabelEncoder\n",
    "from sklearn.decomposition import TruncatedSVD\n",
    "from sklearn.linear_model import LogisticRegression, SGDClassifier\n",
    "from sklearn.naive_bayes import MultinomialNB, GaussianNB\n",
    "from sklearn.neighbors import KNeighborsClassifier\n",
    "from sklearn.ensemble import RandomForestClassifier\n",
    "from xgboost import XGBClassifier\n",
    "\n",
    "# Metriche di valutazione\n",
    "from sklearn.metrics import (confusion_matrix, ConfusionMatrixDisplay, log_loss, precision_recall_fscore_support, classification_report, accuracy_score, f1_score, precision_score, recall_score)\n",
    "from tabulate import tabulate\n",
    "\n",
    "# Utility\n",
    "from sklearn.utils import resample\n",
    "from tqdm import tqdm  # Barra di avanzamento\n",
    "import time\n",
    "import matplotlib.image as mpimg\n",
    "from IPython.display import Image, display\n",
    "from IPython.core.display import HTML\n",
    "from sklearn.exceptions import ConvergenceWarning\n",
    "\n",
    "# Visualizzazione\n",
    "import matplotlib.pyplot as plt\n",
    "import seaborn as sns\n",
    "import plotly.express as px\n",
    "import plotly.offline as py\n",
    "py.init_notebook_mode(connected=True)\n",
    "\n",
    "# Ignorare avvisi\n",
    "warnings.filterwarnings('ignore')\n",
    "warnings.filterwarnings(\"ignore\", category=ConvergenceWarning)\n",
    "warnings.simplefilter(\"ignore\", ConvergenceWarning)"
   ]
  },
  {
   "cell_type": "code",
   "execution_count": 3,
   "id": "99eb318e-ba8e-4e9e-a02d-d260ec8696c6",
   "metadata": {},
   "outputs": [],
   "source": [
    "def plot_class_distribution(df, column_name, title='Distribuzione delle Classi', color='navy', ax=None):\n",
    "    # Impostazioni estetiche per il grafico\n",
    "    sns.set(style=\"darkgrid\")  # Aggiunge uno sfondo gradevole\n",
    "\n",
    "    # Creazione del grafico\n",
    "    if ax is None:\n",
    "        ax = plt.gca()  # Se non viene passato un asse, usa quello corrente\n",
    "    sns.countplot(x=column_name, data=df, color=color, ax=ax)  # Imposta un colore uniforme per le barre\n",
    "\n",
    "    # Titolo e etichette\n",
    "    ax.set_title(title, fontsize=16)\n",
    "    ax.set_xlabel('Classi', fontsize=14)\n",
    "    ax.set_ylabel('Numero di Occorrenze', fontsize=14)\n",
    "\n",
    "    # Aggiungere il numero sopra ogni barra con lo stesso colore della barra\n",
    "    for p in ax.patches:\n",
    "        height = int(p.get_height())  # Otteniamo l'altezza della barra\n",
    "        ax.annotate(f'{height}', \n",
    "                    (p.get_x() + p.get_width() / 2., p.get_height()), \n",
    "                    ha='center', va='center', fontsize=12, \n",
    "                    color=p.get_facecolor(),  # Impostiamo il colore del testo uguale a quello della barra\n",
    "                    xytext=(0, 5), textcoords='offset points')"
   ]
  },
  {
   "cell_type": "code",
   "execution_count": 4,
   "id": "1603323e-43b8-4067-82a0-aff118a790f8",
   "metadata": {},
   "outputs": [],
   "source": [
    "# Caricamento Dataset\n",
    "data = pd.read_csv(\"/Users/diego/Desktop/dataset_ottimizzato.csv\")"
   ]
  },
  {
   "cell_type": "code",
   "execution_count": 5,
   "id": "69cdd4f4-aa8a-4822-a600-3378cccca529",
   "metadata": {},
   "outputs": [
    {
     "data": {
      "text/html": [
       "<div>\n",
       "<style scoped>\n",
       "    .dataframe tbody tr th:only-of-type {\n",
       "        vertical-align: middle;\n",
       "    }\n",
       "\n",
       "    .dataframe tbody tr th {\n",
       "        vertical-align: top;\n",
       "    }\n",
       "\n",
       "    .dataframe thead th {\n",
       "        text-align: right;\n",
       "    }\n",
       "</style>\n",
       "<table border=\"1\" class=\"dataframe\">\n",
       "  <thead>\n",
       "    <tr style=\"text-align: right;\">\n",
       "      <th></th>\n",
       "      <th>ID</th>\n",
       "      <th>Gene</th>\n",
       "      <th>Variation</th>\n",
       "      <th>Class</th>\n",
       "      <th>text</th>\n",
       "    </tr>\n",
       "  </thead>\n",
       "  <tbody>\n",
       "    <tr>\n",
       "      <th>0</th>\n",
       "      <td>0</td>\n",
       "      <td>FAM58A</td>\n",
       "      <td>Truncating Mutations</td>\n",
       "      <td>1</td>\n",
       "      <td>cyclin dependent kinase cdks regulate variety ...</td>\n",
       "    </tr>\n",
       "    <tr>\n",
       "      <th>1</th>\n",
       "      <td>1</td>\n",
       "      <td>CBL</td>\n",
       "      <td>W802*</td>\n",
       "      <td>2</td>\n",
       "      <td>abstract background non small cell lung cancer...</td>\n",
       "    </tr>\n",
       "    <tr>\n",
       "      <th>2</th>\n",
       "      <td>2</td>\n",
       "      <td>CBL</td>\n",
       "      <td>Q249E</td>\n",
       "      <td>2</td>\n",
       "      <td>abstract background non small cell lung cancer...</td>\n",
       "    </tr>\n",
       "    <tr>\n",
       "      <th>3</th>\n",
       "      <td>3</td>\n",
       "      <td>CBL</td>\n",
       "      <td>N454D</td>\n",
       "      <td>3</td>\n",
       "      <td>recent evidence demonstrated acquired uniparen...</td>\n",
       "    </tr>\n",
       "    <tr>\n",
       "      <th>4</th>\n",
       "      <td>4</td>\n",
       "      <td>CBL</td>\n",
       "      <td>L399V</td>\n",
       "      <td>4</td>\n",
       "      <td>oncogenic mutation monomeric casitas lineage l...</td>\n",
       "    </tr>\n",
       "  </tbody>\n",
       "</table>\n",
       "</div>"
      ],
      "text/plain": [
       "   ID    Gene             Variation  Class  \\\n",
       "0   0  FAM58A  Truncating Mutations      1   \n",
       "1   1     CBL                 W802*      2   \n",
       "2   2     CBL                 Q249E      2   \n",
       "3   3     CBL                 N454D      3   \n",
       "4   4     CBL                 L399V      4   \n",
       "\n",
       "                                                text  \n",
       "0  cyclin dependent kinase cdks regulate variety ...  \n",
       "1  abstract background non small cell lung cancer...  \n",
       "2  abstract background non small cell lung cancer...  \n",
       "3  recent evidence demonstrated acquired uniparen...  \n",
       "4  oncogenic mutation monomeric casitas lineage l...  "
      ]
     },
     "execution_count": 5,
     "metadata": {},
     "output_type": "execute_result"
    }
   ],
   "source": [
    "data.head()"
   ]
  },
  {
   "cell_type": "code",
   "execution_count": 26,
   "id": "f30bfa3e-4dba-4e24-b9ee-1b8b335ff7a0",
   "metadata": {},
   "outputs": [
    {
     "name": "stdout",
     "output_type": "stream",
     "text": [
      "Class\n",
      "7    700\n",
      "4    685\n",
      "1    566\n",
      "6    550\n",
      "2    452\n",
      "5    450\n",
      "3    300\n",
      "9    250\n",
      "8    200\n",
      "Name: count, dtype: int64\n"
     ]
    }
   ],
   "source": [
    "# Definisci la distribuzione desiderata\n",
    "desired_distribution = {7: 700, 4: 685, 1: 566, 6: 550, 2: 452, 5: 450, 3: 300, 9: 250, 8: 200}\n",
    "\n",
    "# Inizializza i sampler\n",
    "over_sampler = RandomOverSampler(sampling_strategy={k: v for k, v in desired_distribution.items() if v > data['Class'].value_counts()[k]})\n",
    "under_sampler = RandomUnderSampler(sampling_strategy={k: v for k, v in desired_distribution.items() if v < data['Class'].value_counts()[k]})\n",
    "\n",
    "# Applica l'oversampling\n",
    "X_over, y_over = over_sampler.fit_resample(data.drop('Class', axis=1), data['Class'])\n",
    "\n",
    "# Applica l'undersampling\n",
    "X_under, y_under = under_sampler.fit_resample(X_over, y_over)\n",
    "\n",
    "# Combina i risultati\n",
    "balanced_data = pd.concat([X_under, y_under], axis=1)\n",
    "\n",
    "# Supponiamo che le feature testuali siano in una colonna chiamata 'Text'\n",
    "text_data = balanced_data['text']\n",
    "\n",
    "# Applica TF-IDF\n",
    "tfidf_vectorizer = TfidfVectorizer(max_features=5000)  # Puoi regolare max_features in base alle tue esigenze\n",
    "tfidf_matrix = tfidf_vectorizer.fit_transform(text_data)\n",
    "\n",
    "# Applica SVD\n",
    "svd = TruncatedSVD(n_components=100)  # Puoi regolare n_components in base alle tue esigenze\n",
    "svd_matrix = svd.fit_transform(tfidf_matrix)\n",
    "\n",
    "# Converti la matrice SVD in un DataFrame\n",
    "svd_df = pd.DataFrame(svd_matrix)\n",
    "\n",
    "# Combina le feature SVD con il target\n",
    "balanced_data_svd = pd.concat([svd_df, balanced_data['Class'].reset_index(drop=True)], axis=1)\n",
    "\n",
    "# Dividi il dataset in feature (X) e target (y)\n",
    "X = balanced_data_svd.drop('Class', axis=1)\n",
    "y = balanced_data_svd['Class']\n",
    "\n",
    "# Dividi il dataset in train e test set (80-20)\n",
    "X_train, X_test, y_train, y_test = train_test_split(X, y, test_size=0.2, random_state=42, stratify=y)\n",
    "\n",
    "# Verifica la distribuzione delle classi\n",
    "print(balanced_data_svd['Class'].value_counts())"
   ]
  },
  {
   "cell_type": "code",
   "execution_count": null,
   "id": "1417fe07-c244-477e-8dd9-669df2ce19ec",
   "metadata": {},
   "outputs": [],
   "source": []
  },
  {
   "cell_type": "code",
   "execution_count": 27,
   "id": "8c7f96ea-3bf9-4786-8873-a73e7a7dddc0",
   "metadata": {},
   "outputs": [
    {
     "data": {
      "image/png": "[encoded data removed]",
      "text/plain": [
       "<Figure size 1400x600 with 2 Axes>"
      ]
     },
     "metadata": {},
     "output_type": "display_data"
    }
   ],
   "source": [
    "# Visualizza la distribuzione delle classi nel training e nel test set\n",
    "fig, axes = plt.subplots(1, 2, figsize=(14, 6))\n",
    "\n",
    "# Grafico per il training set\n",
    "plot_class_distribution(df=pd.DataFrame({'Class': y_train}), column_name='Class', title='Distribuzione delle Classi nel Training Set Originale', color='navy', ax=axes[0])\n",
    "\n",
    "# Grafico per il test set\n",
    "plot_class_distribution(df=pd.DataFrame({'Class': y_test}), column_name='Class', title='Distribuzione delle Classi nel Test Set Originale', color='navy', ax=axes[1])\n",
    "\n",
    "# Ottimizzazione della disposizione dell'intero layout\n",
    "plt.tight_layout()\n",
    "plt.show()"
   ]
  },
  {
   "cell_type": "code",
   "execution_count": 30,
   "id": "1f352c47-ad5e-43a6-8004-1038782ee3c7",
   "metadata": {},
   "outputs": [
    {
     "name": "stdout",
     "output_type": "stream",
     "text": [
      "Fitting 5 folds for each of 16 candidates, totalling 80 fits\n",
      "Migliori parametri trovati: {'bootstrap': False, 'max_depth': 30, 'max_features': 'sqrt', 'min_samples_leaf': 1, 'min_samples_split': 5, 'n_estimators': 200}\n",
      "\n",
      "Report di classificazione:\n",
      "               precision    recall  f1-score   support\n",
      "\n",
      "    Classe 1       0.58      0.52      0.55       113\n",
      "    Classe 2       0.69      0.67      0.68        91\n",
      "    Classe 3       0.77      0.85      0.81        60\n",
      "    Classe 4       0.71      0.67      0.69       137\n",
      "    Classe 5       0.60      0.76      0.67        90\n",
      "    Classe 6       0.91      0.87      0.89       110\n",
      "    Classe 7       0.74      0.73      0.73       140\n",
      "    Classe 8       1.00      1.00      1.00        40\n",
      "    Classe 9       1.00      0.98      0.99        50\n",
      "\n",
      "    accuracy                           0.74       831\n",
      "   macro avg       0.78      0.78      0.78       831\n",
      "weighted avg       0.75      0.74      0.74       831\n",
      "\n",
      "Accuracy complessiva: 0.7437\n",
      "F1-score medio pesato: 0.7433\n"
     ]
    }
   ],
   "source": [
    "from sklearn.ensemble import RandomForestClassifier\n",
    "from sklearn.model_selection import StratifiedKFold, GridSearchCV\n",
    "from sklearn.metrics import classification_report, accuracy_score\n",
    "\n",
    "# 1. Definizione del modello Random Forest\n",
    "rf = RandomForestClassifier(random_state=42)\n",
    "\n",
    "# 2. Definizione della griglia di iperparametri da ottimizzare\n",
    "param_grid = {\n",
    "    'n_estimators': [200],  # Numero di alberi\n",
    "    'max_depth': [30],  # Profondità massima\n",
    "    'min_samples_split': [2, 5],  # Numero minimo di campioni per dividere un nodo\n",
    "    'min_samples_leaf': [1, 2],  # Numero minimo di campioni per essere in una foglia\n",
    "    'max_features': ['auto', 'sqrt'],  # Numero di feature da considerare\n",
    "    'bootstrap': [True, False]  # Utilizzare il bootstrap\n",
    "}\n",
    "\n",
    "# 3. Configurazione di StratifiedKFold per la validazione incrociata\n",
    "cv = StratifiedKFold(n_splits=5, shuffle=True, random_state=42)\n",
    "\n",
    "# 4. GridSearchCV per ottimizzazione dei parametri con F1-score come metrica\n",
    "grid_search = GridSearchCV(\n",
    "    estimator=rf,\n",
    "    param_grid=param_grid,\n",
    "    cv=cv,\n",
    "    scoring='f1_weighted',  # F1-score pesato per bilanciare le classi\n",
    "    n_jobs=-1,\n",
    "    verbose=2\n",
    ")\n",
    "\n",
    "# 5. Addestramento del modello sul set di training bilanciato\n",
    "grid_search.fit(X_train, y_train)\n",
    "\n",
    "# 6. Recupero del miglior modello\n",
    "best_rf = grid_search.best_estimator_\n",
    "print(f\"Migliori parametri trovati: {grid_search.best_params_}\")\n",
    "\n",
    "# 7. Previsione sul set di test\n",
    "y_pred = best_rf.predict(X_test)\n",
    "\n",
    "# 8. Calcolo delle metriche di valutazione\n",
    "report = classification_report(y_test, y_pred, target_names=[f\"Classe {cls}\" for cls in set(y_test)])\n",
    "accuracy = accuracy_score(y_test, y_pred)\n",
    "f1_weighted = f1_score(y_test, y_pred, average='weighted')\n",
    "\n",
    "# Stampa delle metriche\n",
    "print(\"\\nReport di classificazione:\\n\", report)\n",
    "print(f\"Accuracy complessiva: {accuracy:.4f}\")\n",
    "print(f\"F1-score medio pesato: {f1_weighted:.4f}\")"
   ]
  },
  {
   "cell_type": "code",
   "execution_count": 31,
   "id": "722a73b4-c187-4d28-a47a-3802b663183d",
   "metadata": {},
   "outputs": [
    {
     "name": "stdout",
     "output_type": "stream",
     "text": [
      "Cross-Validation Accuracy: 71.74%\n"
     ]
    }
   ],
   "source": [
    "from sklearn.model_selection import StratifiedKFold, cross_val_score\n",
    "\n",
    "# Stratified K-Fold Cross-Validation\n",
    "skf = StratifiedKFold(n_splits=10, shuffle=True, random_state=42)\n",
    "cross_val_scores = cross_val_score(rf, X_train, y_train, cv=skf, scoring='accuracy')\n",
    "\n",
    "print(f'Cross-Validation Accuracy: {np.mean(cross_val_scores) * 100:.2f}%')\n"
   ]
  },
  {
   "cell_type": "code",
   "execution_count": null,
   "id": "e88e0231-62d3-48f1-aecd-c24321b63e25",
   "metadata": {},
   "outputs": [],
   "source": []
  }
 ],
 "metadata": {
  "kernelspec": {
   "display_name": "Python 3 (ipykernel)",
   "language": "python",
   "name": "python3"
  },
  "language_info": {
   "codemirror_mode": {
    "name": "ipython",
    "version": 3
   },
   "file_extension": ".py",
   "mimetype": "text/x-python",
   "name": "python",
   "nbconvert_exporter": "python",
   "pygments_lexer": "ipython3",
   "version": "3.12.6"
  }
 },
 "nbformat": 4,
 "nbformat_minor": 5
}
